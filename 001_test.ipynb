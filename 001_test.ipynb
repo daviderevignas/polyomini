{
 "cells": [
  {
   "cell_type": "code",
   "execution_count": 15,
   "id": "175bb334",
   "metadata": {},
   "outputs": [
    {
     "name": "stdout",
     "output_type": "stream",
     "text": [
      "/Users/daviderevignas/scientific_projects/scientific_code/polyomini/src\n",
      "running build\n",
      "running config_cc\n",
      "INFO: unifing config_cc, config, build_clib, build_ext, build commands --compiler options\n",
      "running config_fc\n",
      "INFO: unifing config_fc, config, build_clib, build_ext, build commands --fcompiler options\n",
      "running build_src\n",
      "INFO: build_src\n",
      "INFO: building extension \"polyomino_simulation\" sources\n",
      "INFO: f2py options: []\n",
      "INFO: f2py:> /var/folders/n5/f496lkj93z1d5p8bbkfqkhtr0000gn/T/tmps65nmxnp/src.macosx-11.0-arm64-3.9/polyomino_simulationmodule.c\n",
      "creating /var/folders/n5/f496lkj93z1d5p8bbkfqkhtr0000gn/T/tmps65nmxnp/src.macosx-11.0-arm64-3.9\n",
      "Reading fortran codes...\n",
      "\tReading file 'polyomino_simulation.f90' (format:free)\n",
      "Post-processing...\n",
      "\tBlock: polyomino_simulation\n",
      "\t\t\tBlock: polyomino_simulation\n",
      "Applying post-processing hooks...\n",
      "  character_backward_compatibility_hook\n",
      "Post-processing (stage 2)...\n",
      "Building modules...\n",
      "    Building module \"polyomino_simulation\"...\n",
      "    Generating possibly empty wrappers\"\n",
      "    Maybe empty \"polyomino_simulation-f2pywrappers.f\"\n",
      "        Constructing wrapper function \"polyomino_simulation\"...\n",
      "          system_history = polyomino_simulation(n_mc_steps,n_savings,ominos_sizes,omino_shapes,n_ominos_per_shape,initial_positions,initial_orientations,box_size,prng_seed,[n_omino_types,max_omino_size,n_ominos])\n",
      "    Wrote C/API module \"polyomino_simulation\" to file \"/var/folders/n5/f496lkj93z1d5p8bbkfqkhtr0000gn/T/tmps65nmxnp/src.macosx-11.0-arm64-3.9/polyomino_simulationmodule.c\"\n",
      "INFO:   adding '/var/folders/n5/f496lkj93z1d5p8bbkfqkhtr0000gn/T/tmps65nmxnp/src.macosx-11.0-arm64-3.9/fortranobject.c' to sources.\n",
      "INFO:   adding '/var/folders/n5/f496lkj93z1d5p8bbkfqkhtr0000gn/T/tmps65nmxnp/src.macosx-11.0-arm64-3.9' to include_dirs.\n",
      "copying /opt/anaconda3/envs/simple_env/lib/python3.9/site-packages/numpy/f2py/src/fortranobject.c -> /var/folders/n5/f496lkj93z1d5p8bbkfqkhtr0000gn/T/tmps65nmxnp/src.macosx-11.0-arm64-3.9\n",
      "copying /opt/anaconda3/envs/simple_env/lib/python3.9/site-packages/numpy/f2py/src/fortranobject.h -> /var/folders/n5/f496lkj93z1d5p8bbkfqkhtr0000gn/T/tmps65nmxnp/src.macosx-11.0-arm64-3.9\n",
      "INFO:   adding '/var/folders/n5/f496lkj93z1d5p8bbkfqkhtr0000gn/T/tmps65nmxnp/src.macosx-11.0-arm64-3.9/polyomino_simulation-f2pywrappers.f' to sources.\n",
      "INFO: build_src: building npy-pkg config files\n",
      "running build_ext\n",
      "INFO: customize UnixCCompiler\n",
      "INFO: customize UnixCCompiler using build_ext\n",
      "INFO: get_default_fcompiler: matching types: '['gnu95', 'nag', 'nagfor', 'absoft', 'ibm', 'intel', 'gnu', 'g95', 'pg']'\n",
      "INFO: customize Gnu95FCompiler\n",
      "INFO: Found executable /opt/homebrew/bin/gfortran\n",
      "INFO: customize Gnu95FCompiler\n",
      "INFO: customize Gnu95FCompiler using build_ext\n",
      "INFO: building 'polyomino_simulation' extension\n",
      "INFO: compiling C sources\n",
      "INFO: C compiler: clang -Wno-unused-result -Wsign-compare -Wunreachable-code -DNDEBUG -fwrapv -O2 -Wall -fPIC -O2 -isystem /opt/anaconda3/envs/simple_env/include -arch arm64 -fPIC -O2 -isystem /opt/anaconda3/envs/simple_env/include -arch arm64\n",
      "\n",
      "creating /var/folders/n5/f496lkj93z1d5p8bbkfqkhtr0000gn/T/tmps65nmxnp/var\n",
      "creating /var/folders/n5/f496lkj93z1d5p8bbkfqkhtr0000gn/T/tmps65nmxnp/var/folders\n",
      "creating /var/folders/n5/f496lkj93z1d5p8bbkfqkhtr0000gn/T/tmps65nmxnp/var/folders/n5\n",
      "creating /var/folders/n5/f496lkj93z1d5p8bbkfqkhtr0000gn/T/tmps65nmxnp/var/folders/n5/f496lkj93z1d5p8bbkfqkhtr0000gn\n",
      "creating /var/folders/n5/f496lkj93z1d5p8bbkfqkhtr0000gn/T/tmps65nmxnp/var/folders/n5/f496lkj93z1d5p8bbkfqkhtr0000gn/T\n",
      "creating /var/folders/n5/f496lkj93z1d5p8bbkfqkhtr0000gn/T/tmps65nmxnp/var/folders/n5/f496lkj93z1d5p8bbkfqkhtr0000gn/T/tmps65nmxnp\n",
      "creating /var/folders/n5/f496lkj93z1d5p8bbkfqkhtr0000gn/T/tmps65nmxnp/var/folders/n5/f496lkj93z1d5p8bbkfqkhtr0000gn/T/tmps65nmxnp/src.macosx-11.0-arm64-3.9\n",
      "INFO: compile options: '-DNPY_DISABLE_OPTIMIZATION=1 -I/var/folders/n5/f496lkj93z1d5p8bbkfqkhtr0000gn/T/tmps65nmxnp/src.macosx-11.0-arm64-3.9 -I/opt/anaconda3/envs/simple_env/lib/python3.9/site-packages/numpy/core/include -I/opt/anaconda3/envs/simple_env/include/python3.9 -c'\n",
      "INFO: clang: /var/folders/n5/f496lkj93z1d5p8bbkfqkhtr0000gn/T/tmps65nmxnp/src.macosx-11.0-arm64-3.9/polyomino_simulationmodule.c\n",
      "INFO: clang: /var/folders/n5/f496lkj93z1d5p8bbkfqkhtr0000gn/T/tmps65nmxnp/src.macosx-11.0-arm64-3.9/fortranobject.c\n",
      "INFO: compiling Fortran sources\n",
      "INFO: Fortran f77 compiler: /opt/homebrew/bin/gfortran -Wall -g -ffixed-form -fno-second-underscore -fPIC -O3\n",
      "Fortran f90 compiler: /opt/homebrew/bin/gfortran -Wall -g -fno-second-underscore -fPIC -O3\n",
      "Fortran fix compiler: /opt/homebrew/bin/gfortran -Wall -g -ffixed-form -fno-second-underscore -Wall -g -fno-second-underscore -fPIC -O3\n",
      "INFO: compile options: '-I/var/folders/n5/f496lkj93z1d5p8bbkfqkhtr0000gn/T/tmps65nmxnp/src.macosx-11.0-arm64-3.9 -I/opt/anaconda3/envs/simple_env/lib/python3.9/site-packages/numpy/core/include -I/opt/anaconda3/envs/simple_env/include/python3.9 -c'\n",
      "INFO: gfortran:f90: polyomino_simulation.f90\n",
      "INFO: gfortran:f77: /var/folders/n5/f496lkj93z1d5p8bbkfqkhtr0000gn/T/tmps65nmxnp/src.macosx-11.0-arm64-3.9/polyomino_simulation-f2pywrappers.f\n",
      "INFO: /opt/homebrew/bin/gfortran -Wall -g -Wall -g -undefined dynamic_lookup -bundle /var/folders/n5/f496lkj93z1d5p8bbkfqkhtr0000gn/T/tmps65nmxnp/var/folders/n5/f496lkj93z1d5p8bbkfqkhtr0000gn/T/tmps65nmxnp/src.macosx-11.0-arm64-3.9/polyomino_simulationmodule.o /var/folders/n5/f496lkj93z1d5p8bbkfqkhtr0000gn/T/tmps65nmxnp/var/folders/n5/f496lkj93z1d5p8bbkfqkhtr0000gn/T/tmps65nmxnp/src.macosx-11.0-arm64-3.9/fortranobject.o /var/folders/n5/f496lkj93z1d5p8bbkfqkhtr0000gn/T/tmps65nmxnp/polyomino_simulation.o /var/folders/n5/f496lkj93z1d5p8bbkfqkhtr0000gn/T/tmps65nmxnp/var/folders/n5/f496lkj93z1d5p8bbkfqkhtr0000gn/T/tmps65nmxnp/src.macosx-11.0-arm64-3.9/polyomino_simulation-f2pywrappers.o -L/opt/homebrew/Cellar/gcc/14.2.0_1/bin/../lib/gcc/current/gcc/aarch64-apple-darwin24/14 -L/opt/homebrew/Cellar/gcc/14.2.0_1/bin/../lib/gcc/current/gcc/aarch64-apple-darwin24/14/../../.. -L/opt/homebrew/Cellar/gcc/14.2.0_1/bin/../lib/gcc/current/gcc/aarch64-apple-darwin24/14/../../.. -lgfortran -o ./polyomino_simulation.cpython-39-darwin.so\n",
      "Removing build directory /var/folders/n5/f496lkj93z1d5p8bbkfqkhtr0000gn/T/tmps65nmxnp\n",
      "\n",
      "/opt/anaconda3/envs/simple_env/lib/python3.9/site-packages/numpy/f2py/f2py2e.py:719: VisibleDeprecationWarning: distutils has been deprecated since NumPy 1.26.xUse the Meson backend instead, or generate wrapperswithout -c and use a custom build script\n",
      "  builder = build_backend(\n",
      "rmbadname1: Replacing \"min\" with \"min_bn\".\n",
      "rmbadname1: Replacing \"max\" with \"max_bn\".\n",
      "rmbadname1: Replacing \"min\" with \"min_bn\".\n",
      "rmbadname1: Replacing \"max\" with \"max_bn\".\n",
      "/opt/anaconda3/envs/simple_env/lib/python3.9/site-packages/setuptools/_distutils/cmd.py:66: SetuptoolsDeprecationWarning: setup.py install is deprecated.\n",
      "!!\n",
      "\n",
      "        ********************************************************************************\n",
      "        Please avoid running ``setup.py`` directly.\n",
      "        Instead, use pypa/build, pypa/installer or other\n",
      "        standards-based tools.\n",
      "\n",
      "        See https://blog.ganssle.io/articles/2021/10/setup-py-deprecated.html for details.\n",
      "        ********************************************************************************\n",
      "\n",
      "!!\n",
      "  self.initialize_options()\n",
      "ld: warning: ignoring duplicate libraries: '-lgfortran'\n",
      "\n",
      "/Users/daviderevignas/scientific_projects/scientific_code/polyomini\n"
     ]
    }
   ],
   "source": [
    "%cd src\n",
    "!conda run -n simple_env python3 -m numpy.f2py -c -m polyomino_simulation polyomino_simulation.f90 --opt='-O3'\n",
    "%cd .."
   ]
  },
  {
   "cell_type": "code",
   "execution_count": 16,
   "id": "eab60d1c",
   "metadata": {},
   "outputs": [],
   "source": [
    "import numpy as np\n",
    "import matplotlib.pyplot as plt\n",
    "import os\n",
    "from numba import njit\n",
    "import sys \n",
    "module_path = \"src\"\n",
    "sys.path.append(module_path)\n",
    "import polyomino_simulation\n",
    "\n",
    "\n",
    "\n",
    "\n"
   ]
  },
  {
   "cell_type": "code",
   "execution_count": 17,
   "id": "15d5fb7b",
   "metadata": {},
   "outputs": [],
   "source": [
    "\n",
    "ominos_sizes= np.array([4,4,4,4,4],dtype=np.int32)\n",
    "max_omino_size=np.max(ominos_sizes)\n",
    "\n",
    "omino_1 = np.array([[0,0],[0,1],[0,2],[0,3]],dtype=np.int32)\n",
    "omino_2 = np.array([[0,0],[0,1],[1,0],[1,1]],dtype=np.int32)\n",
    "omino_3 = np.array([[0,0],[0,1],[0,2],[1,2]],dtype=np.int32)\n",
    "omino_4 = np.array([[0,0],[0,1],[0,2],[1,1]],dtype=np.int32)\n",
    "omino_5 = np.array([[0,0],[0,1],[1,1],[1,2]],dtype=np.int32)\n",
    "\n",
    "omino_1 = omino_1[..., np.newaxis]  # (4,2,1)\n",
    "omino_2 = omino_2[..., np.newaxis] \n",
    "omino_3 = omino_3[..., np.newaxis]  \n",
    "omino_4 = omino_4[..., np.newaxis]  \n",
    "omino_5 = omino_5[..., np.newaxis]  \n",
    "\n",
    "omino_shapes = np.concatenate([omino_1, omino_2, omino_3, omino_4,omino_5], axis=2)\n",
    "\n",
    "n_omino_types = omino_shapes.shape[-1]\n",
    "\n",
    "n_ominos_per_shape=np.array([1,1,1,1,1],dtype=np.int32)\n",
    "box_size = 25\n",
    "\n",
    "n_ominos = np.sum(n_ominos_per_shape)\n"
   ]
  },
  {
   "cell_type": "code",
   "execution_count": 18,
   "id": "f348c165",
   "metadata": {},
   "outputs": [],
   "source": [
    "n_lattice_sites = box_size**2\n",
    "initial_positions = np.array([[1,1],[3,1],[6,6],[9,9],[12,12]],dtype=np.int32)\n",
    "initial_orientations = np.array([1,1,1,1,1],dtype=np.int32)\n"
   ]
  },
  {
   "cell_type": "code",
   "execution_count": 19,
   "id": "c022dce6",
   "metadata": {},
   "outputs": [
    {
     "name": "stdout",
     "output_type": "stream",
     "text": [
      "           1           2           3           4           5\n"
     ]
    }
   ],
   "source": [
    "n_mc_steps=800 \n",
    "n_savings=100\n",
    "prng_seed=np.random.randint(1,100000)\n",
    "\n",
    "system_history=polyomino_simulation.polyomino_simulation(\n",
    "    n_mc_steps=n_mc_steps,\n",
    "    n_savings=n_savings,\n",
    "    n_omino_types=n_omino_types,\n",
    "    ominos_sizes=ominos_sizes,\n",
    "    max_omino_size=max_omino_size,\n",
    "    omino_shapes=omino_shapes,\n",
    "    n_ominos_per_shape=n_ominos_per_shape,\n",
    "    n_ominos=n_ominos,\n",
    "    initial_positions=initial_positions,\n",
    "    initial_orientations=initial_orientations,\n",
    "    box_size=box_size,\n",
    "    prng_seed=prng_seed,\n",
    ")"
   ]
  },
  {
   "cell_type": "code",
   "execution_count": 20,
   "id": "9e36e918",
   "metadata": {},
   "outputs": [
    {
     "data": {
      "text/plain": [
       "2000"
      ]
     },
     "execution_count": 20,
     "metadata": {},
     "output_type": "execute_result"
    }
   ],
   "source": [
    "system_history.sum()"
   ]
  },
  {
   "cell_type": "code",
   "execution_count": 21,
   "id": "b785d4df",
   "metadata": {},
   "outputs": [
    {
     "data": {
      "text/plain": [
       "(25, 25, 100)"
      ]
     },
     "execution_count": 21,
     "metadata": {},
     "output_type": "execute_result"
    }
   ],
   "source": [
    "system_history.shape"
   ]
  },
  {
   "cell_type": "code",
   "execution_count": 22,
   "id": "e759d9ba",
   "metadata": {},
   "outputs": [],
   "source": [
    "# fig,ax=plt.subplots()\n",
    "# ax.set_aspect('equal')\n",
    "# ax.set_axisbelow(True)\n",
    "\n",
    "# i_snapshot=0\n",
    "\n",
    "# ax.set_xlim([0,box_size+1])\n",
    "# ax.set_ylim([0,box_size+1])\n",
    "\n",
    "# for i in range(box_size + 1):\n",
    "#     ax.plot([i+0.5, i+0.5],[0.5, box_size+0.5], color='black')\n",
    "#     ax.plot([0.5, box_size+0.5],[i+0.5, i+0.5], color='black')\n",
    "\n",
    "\n",
    "# block_size_plot=17\n",
    "# for ix in range(box_size):\n",
    "#     for iy in range(box_size):\n",
    "#         if system_history[ix,iy,i_snapshot]>0:\n",
    "#             ax.plot(ix+1,iy+1,'sk',markersize=block_size_plot,markeredgewidth=0.0)\n"
   ]
  },
  {
   "cell_type": "code",
   "execution_count": 23,
   "id": "16a33df5",
   "metadata": {},
   "outputs": [],
   "source": [
    "import matplotlib.pyplot as plt\n",
    "import matplotlib.animation as animation\n",
    "\n",
    "# --- Setup ---\n",
    "fig, ax = plt.subplots()\n",
    "ax.set_aspect('equal')\n",
    "ax.set_axisbelow(True)\n",
    "\n",
    "ax.set_xlim([0, box_size+1])\n",
    "ax.set_ylim([0, box_size+1])\n",
    "\n",
    "# Draw grid once (static)\n",
    "for i in range(box_size + 1):\n",
    "    ax.plot([i+0.5, i+0.5], [0.5, box_size+0.5], color='black')\n",
    "    ax.plot([0.5, box_size+0.5], [i+0.5, i+0.5], color='black')\n",
    "\n",
    "block_size_plot = 14\n",
    "scatters = []  # keep references for clearing\n",
    "\n",
    "\n",
    "# --- Update function for animation ---\n",
    "def update(i_snapshot):\n",
    "    global scatters\n",
    "    # remove old markers\n",
    "    for sc in scatters:\n",
    "        sc.remove()\n",
    "    scatters = []\n",
    "\n",
    "    for ix in range(box_size):\n",
    "        for iy in range(box_size):\n",
    "            if system_history[ix, iy, i_snapshot] > 0:\n",
    "                sc = ax.plot(ix+1, iy+1, 'sk',\n",
    "                             markersize=block_size_plot,\n",
    "                             markeredgewidth=0.0)\n",
    "                scatters.extend(sc)  # plot returns a list\n",
    "\n",
    "    return scatters\n",
    "\n",
    "\n",
    "# --- Create animation ---\n",
    "n_snapshots = system_history.shape[2]  # number of frames\n",
    "ani = animation.FuncAnimation(fig, update, frames=n_snapshots, blit=False, repeat=True)\n",
    "\n",
    "# --- Save as GIF ---\n",
    "ani.save(\"animation.gif\", writer=\"pillow\", fps=5)\n",
    "plt.close()\n"
   ]
  }
 ],
 "metadata": {
  "kernelspec": {
   "display_name": "simple_env",
   "language": "python",
   "name": "python3"
  },
  "language_info": {
   "codemirror_mode": {
    "name": "ipython",
    "version": 3
   },
   "file_extension": ".py",
   "mimetype": "text/x-python",
   "name": "python",
   "nbconvert_exporter": "python",
   "pygments_lexer": "ipython3",
   "version": "3.9.15"
  }
 },
 "nbformat": 4,
 "nbformat_minor": 5
}
